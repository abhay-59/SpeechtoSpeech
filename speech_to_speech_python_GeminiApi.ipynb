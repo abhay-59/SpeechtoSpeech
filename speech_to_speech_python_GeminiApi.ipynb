{
  "nbformat": 4,
  "nbformat_minor": 0,
  "metadata": {
    "colab": {
      "provenance": []
    },
    "kernelspec": {
      "name": "python3",
      "display_name": "Python 3"
    },
    "language_info": {
      "name": "python"
    }
  },
  "cells": [
    {
      "cell_type": "code",
      "source": [
        "!pip install SpeechRecognition pyttsx3 gtts playsound pygame sounddevice scipy transformers\n",
        "\n",
        "!pip install pydub SpeechRecognition transformers gtts playsound\n",
        "!apt-get install ffmpeg\n"
      ],
      "metadata": {
        "id": "IiwOVCYXuOb9",
        "collapsed": true
      },
      "execution_count": null,
      "outputs": []
    },
    {
      "cell_type": "code",
      "source": [
        "\n",
        "from pydub import AudioSegment\n",
        "from google.colab import files\n",
        "\n",
        "import speech_recognition as sr\n",
        "import os\n",
        "from gtts import gTTS\n",
        "from IPython.display import Audio\n",
        "\n",
        "\n",
        "\n",
        "os.environ[\"GEMINI_API_KEY\"] = \"\"  # Replace with your Gemini API key\n",
        "\n",
        "# Function to upload an audio file (wav format) to simulate voice capture\n",
        "def upload_voice():\n",
        "    uploaded = files.upload()  # Upload a .wav file for processing\n",
        "    for filename in uploaded.keys():\n",
        "        print(f\"Uploaded file: {filename}\")\n",
        "        return filename\n",
        "\n",
        "# Simulate by uploading your .wav file\n",
        "audio_filename = upload_voice()  # Use this as input for the next step\n",
        "\n",
        "\n",
        "\n",
        "def speech_to_text(audio_filename):\n",
        "    recognizer = sr.Recognizer()\n",
        "    with sr.AudioFile(audio_filename) as source:\n",
        "        audio = recognizer.record(source)  # Read the audio file\n",
        "    try:\n",
        "        text = recognizer.recognize_google(audio)\n",
        "        print(\"Recognized Text:\", text)\n",
        "        return text\n",
        "    except sr.UnknownValueError:\n",
        "        print(\"Google Speech Recognition could not understand audio\")\n",
        "    except sr.RequestError as e:\n",
        "        print(f\"Could not request results from Google Speech Recognition service; {e}\")\n",
        "\n",
        "# Example: Convert uploaded audio to text\n",
        "text_input = speech_to_text(audio_filename)\n",
        "\n",
        "\n",
        "\n",
        "\n",
        "\n",
        "import google.generativeai as genai\n",
        "\n",
        "genai.configure(api_key=os.environ[\"GEMINI_API_KEY\"])\n",
        "\n",
        "# Create the model\n",
        "generation_config = {\n",
        "  \"temperature\": 1,\n",
        "  \"top_p\": 0.95,\n",
        "  \"top_k\": 40,\n",
        "  \"max_output_tokens\": 8192,\n",
        "  \"response_mime_type\": \"text/plain\",\n",
        "}\n",
        "\n",
        "model = genai.GenerativeModel(\n",
        "  model_name=\"gemini-1.5-flash\",\n",
        "  generation_config=generation_config,\n",
        ")\n",
        "\n",
        "chat_session = model.start_chat(\n",
        "  history=[\n",
        "  ]\n",
        ")\n",
        "\n",
        "response = chat_session.send_message(text_input)\n",
        "\n",
        "print(response.text)\n",
        "\n",
        "\n",
        "\n",
        "def text_to_speech(text, filename=\"response.mp3\"):\n",
        "    tts = gTTS(text=text, lang='en')\n",
        "    tts.save(filename)\n",
        "    print(f\"Response saved as {filename}\")\n",
        "\n",
        "# Convert LLM response to speech\n",
        "text_to_speech(response.text)\n",
        "\n",
        "\n",
        "\n",
        "\n",
        "def play_audio(filename=\"response.mp3\"):\n",
        "    return Audio(filename)\n",
        "\n",
        "# Play the generated audio\n",
        "play_audio()\n"
      ],
      "metadata": {
        "id": "RxyrT6P3rRZ_"
      },
      "execution_count": null,
      "outputs": []
    },
    {
      "cell_type": "code",
      "source": [],
      "metadata": {
        "id": "LfevZ0aeuLHQ"
      },
      "execution_count": null,
      "outputs": []
    }
  ]
}